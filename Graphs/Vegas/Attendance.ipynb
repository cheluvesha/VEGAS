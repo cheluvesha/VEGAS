{
 "cells": [
  {
   "cell_type": "markdown",
   "metadata": {},
   "source": [
    "### Add Spark Dependency"
   ]
  },
  {
   "cell_type": "code",
   "execution_count": 14,
   "metadata": {},
   "outputs": [
    {
     "data": {
      "text/plain": [
       "\u001b[32mimport \u001b[39m\u001b[36m$ivy.$                                  \u001b[39m"
      ]
     },
     "execution_count": 14,
     "metadata": {},
     "output_type": "execute_result"
    }
   ],
   "source": [
    "// include spark dependency\n",
    "import $ivy.`org.apache.spark::spark-sql:2.4.0`"
   ]
  },
  {
   "cell_type": "markdown",
   "metadata": {},
   "source": [
    "### Include VEGAS jars"
   ]
  },
  {
   "cell_type": "code",
   "execution_count": 15,
   "metadata": {},
   "outputs": [
    {
     "data": {
      "text/plain": [
       "\u001b[32mimport \u001b[39m\u001b[36m$ivy.$                            \n",
       "\n",
       "\u001b[39m\n",
       "\u001b[32mimport \u001b[39m\u001b[36m$ivy.$                                  \n",
       "\u001b[39m"
      ]
     },
     "execution_count": 15,
     "metadata": {},
     "output_type": "execute_result"
    }
   ],
   "source": [
    "// include VEGA jars\n",
    "import $ivy.`org.vegas-viz::vegas:0.3.11`\n",
    "\n",
    "import $ivy.`org.vegas-viz::vegas-spark:0.3.11`\n"
   ]
  },
  {
   "cell_type": "markdown",
   "metadata": {},
   "source": [
    "### Import Spark Libraries"
   ]
  },
  {
   "cell_type": "code",
   "execution_count": 16,
   "metadata": {},
   "outputs": [
    {
     "data": {
      "text/plain": [
       "\u001b[32mimport \u001b[39m\u001b[36morg.apache.spark.SparkContext._\n",
       "\n",
       "\u001b[39m\n",
       "\u001b[32mimport \u001b[39m\u001b[36morg.apache.spark.rdd._\n",
       "\n",
       "\u001b[39m\n",
       "\u001b[32mimport \u001b[39m\u001b[36morg.apache.spark.util.LongAccumulator\n",
       "\n",
       "\u001b[39m\n",
       "\u001b[32mimport \u001b[39m\u001b[36morg.apache.log4j._\n",
       "\n",
       "\u001b[39m\n",
       "\u001b[32mimport \u001b[39m\u001b[36morg.apache.spark.sql._\u001b[39m"
      ]
     },
     "execution_count": 16,
     "metadata": {},
     "output_type": "execute_result"
    }
   ],
   "source": [
    "// import spark libraries\n",
    "import org.apache.spark.SparkContext._\n",
    "\n",
    "import org.apache.spark.rdd._\n",
    "\n",
    "import org.apache.spark.util.LongAccumulator\n",
    "\n",
    "import org.apache.log4j._\n",
    "\n",
    "import org.apache.spark.sql._"
   ]
  },
  {
   "cell_type": "markdown",
   "metadata": {},
   "source": [
    "### Creating SparkSession"
   ]
  },
  {
   "cell_type": "code",
   "execution_count": 17,
   "metadata": {},
   "outputs": [
    {
     "data": {
      "text/plain": [
       "\u001b[36mspark\u001b[39m: \u001b[32mSparkSession\u001b[39m = org.apache.spark.sql.SparkSession@762c78cf\n",
       "\u001b[36msc\u001b[39m: \u001b[32morg\u001b[39m.\u001b[32mapache\u001b[39m.\u001b[32mspark\u001b[39m.\u001b[32mSparkContext\u001b[39m = org.apache.spark.SparkContext@7abced07"
      ]
     },
     "execution_count": 17,
     "metadata": {},
     "output_type": "execute_result"
    }
   ],
   "source": [
    "\n",
    "Logger.getLogger(\"org\").setLevel(Level.ERROR)\n",
    "\n",
    "val spark = SparkSession\n",
    "\n",
    ".builder\n",
    "\n",
    ".appName(\"Attendance\")\n",
    "\n",
    ".master(\"local[*]\")\n",
    ".getOrCreate()\n",
    "\n",
    "//and SparkContext sc\n",
    "\n",
    "val sc = spark.sparkContext"
   ]
  },
  {
   "cell_type": "markdown",
   "metadata": {},
   "source": [
    "### HDFS File Path "
   ]
  },
  {
   "cell_type": "code",
   "execution_count": 18,
   "metadata": {},
   "outputs": [
    {
     "data": {
      "text/plain": [
       "\u001b[36mfilePath\u001b[39m: \u001b[32mString\u001b[39m = \u001b[32m\"hdfs://localhost:54310//output/Attendance/*.json\"\u001b[39m"
      ]
     },
     "execution_count": 18,
     "metadata": {},
     "output_type": "execute_result"
    }
   ],
   "source": [
    "val filePath: String = \"hdfs://localhost:54310//output/Attendance/*.json\"\n"
   ]
  },
  {
   "cell_type": "markdown",
   "metadata": {},
   "source": [
    "### Creating DataFrame from reading json file"
   ]
  },
  {
   "cell_type": "code",
   "execution_count": 19,
   "metadata": {},
   "outputs": [
    {
     "data": {
      "text/plain": [
       "defined \u001b[32mfunction\u001b[39m \u001b[36mcreateDFFromReadingHdfsFiles\u001b[39m"
      ]
     },
     "execution_count": 19,
     "metadata": {},
     "output_type": "execute_result"
    }
   ],
   "source": [
    "def createDFFromReadingHdfsFiles(filePath: String): DataFrame = {\n",
    "    val attendanceDF = spark.read.json(filePath)\n",
    "    attendanceDF\n",
    "}"
   ]
  },
  {
   "cell_type": "markdown",
   "metadata": {},
   "source": [
    "### Calling Create... method for Attendance DataFrame "
   ]
  },
  {
   "cell_type": "code",
   "execution_count": 20,
   "metadata": {},
   "outputs": [
    {
     "name": "stdout",
     "output_type": "stream",
     "text": [
      "+--------------------+--------------------+\n",
      "|AttendancePercentage|            UserName|\n",
      "+--------------------+--------------------+\n",
      "|                 100|salinabodale73@gm...|\n",
      "|                 100|sharlawar77@gmail...|\n",
      "|                 100|rahilstar11@gmail...|\n",
      "|                  83|deepshukla292@gma...|\n",
      "|                 100|  iamnzm@outlook.com|\n",
      "|                  83|markfernandes66@g...|\n",
      "|                  50|damodharn21@gmail...|\n",
      "|                 100|bhagyashrichalke2...|\n",
      "+--------------------+--------------------+\n",
      "\n"
     ]
    },
    {
     "data": {
      "text/plain": [
       "\u001b[36mattendanceDF\u001b[39m: \u001b[32mDataFrame\u001b[39m = [AttendancePercentage: bigint, UserName: string]"
      ]
     },
     "execution_count": 20,
     "metadata": {},
     "output_type": "execute_result"
    }
   ],
   "source": [
    "val attendanceDF = createDFFromReadingHdfsFiles(filePath)\n",
    "attendanceDF.show()"
   ]
  },
  {
   "cell_type": "markdown",
   "metadata": {},
   "source": [
    "### import Vegas-viz library"
   ]
  },
  {
   "cell_type": "code",
   "execution_count": 21,
   "metadata": {},
   "outputs": [
    {
     "data": {
      "text/plain": [
       "\u001b[32mimport \u001b[39m\u001b[36mvegas._\n",
       "\n",
       "\u001b[39m\n",
       "\u001b[32mimport \u001b[39m\u001b[36mvegas.render.WindowRenderer._\n",
       "\n",
       "\u001b[39m\n",
       "\u001b[32mimport \u001b[39m\u001b[36mvegas.sparkExt._\n",
       "\n",
       "\u001b[39m\n",
       "\u001b[32mimport \u001b[39m\u001b[36mvegas._\n",
       "\n",
       "\u001b[39m\n",
       "\u001b[32mimport \u001b[39m\u001b[36mvegas.data.External._\u001b[39m"
      ]
     },
     "execution_count": 21,
     "metadata": {},
     "output_type": "execute_result"
    }
   ],
   "source": [
    "\n",
    "import vegas._\n",
    "\n",
    "import vegas.render.WindowRenderer._\n",
    "\n",
    "import vegas.sparkExt._\n",
    "\n",
    "import vegas._\n",
    "\n",
    "import vegas.data.External._"
   ]
  },
  {
   "cell_type": "markdown",
   "metadata": {},
   "source": [
    "### Scattering Point chart, X axis is Username and Y axis is Attendance Percentage"
   ]
  },
  {
   "cell_type": "code",
   "execution_count": 22,
   "metadata": {},
   "outputs": [
    {
     "data": {
      "text/html": [
       "\n",
       "  <iframe id=\"frame-vegas-37faf55c-af10-4c4f-9bbf-c488391c9405\" sandbox=\"allow-scripts allow-same-origin\" style=\"border: none; width: 100%\" srcdoc=\"&lt;html&gt;\n",
       "  &lt;head&gt;\n",
       "    &lt;script src=&quot;https://cdn.jsdelivr.net/webjars/org.webjars.bower/d3/3.5.17/d3.min.js&quot; charset=&quot;utf-8&quot;&gt;&lt;/script&gt;\n",
       "&lt;script src=&quot;https://cdn.jsdelivr.net/webjars/org.webjars.bower/vega/2.6.3/vega.min.js&quot; charset=&quot;utf-8&quot;&gt;&lt;/script&gt;\n",
       "&lt;script src=&quot;https://cdn.jsdelivr.net/webjars/org.webjars.bower/vega-lite/1.2.0/vega-lite.min.js&quot; charset=&quot;utf-8&quot;&gt;&lt;/script&gt;\n",
       "&lt;script src=&quot;https://vega.github.io/vega-editor/vendor/vega-embed.js&quot; charset=&quot;utf-8&quot;&gt;&lt;/script&gt;\n",
       "  &lt;/head&gt;\n",
       "  &lt;body&gt;\n",
       " &lt;div id='vegas-37faf55c-af10-4c4f-9bbf-c488391c9405'&gt;&lt;/div&gt;\n",
       " &lt;script&gt;\n",
       "   var embedSpec = {\n",
       "     mode: &quot;vega-lite&quot;,\n",
       "     spec: {\n",
       "  &quot;mark&quot; : &quot;point&quot;,\n",
       "  &quot;encoding&quot; : {\n",
       "    &quot;x&quot; : {\n",
       "      &quot;field&quot; : &quot;UserName&quot;,\n",
       "      &quot;type&quot; : &quot;nominal&quot;\n",
       "    },\n",
       "    &quot;y&quot; : {\n",
       "      &quot;axis&quot; : {\n",
       "        &quot;title&quot; : &quot;Attendance in Percentage&quot;\n",
       "      },\n",
       "      &quot;field&quot; : &quot;AttendancePercentage&quot;,\n",
       "      &quot;type&quot; : &quot;quantitative&quot;\n",
       "    },\n",
       "    &quot;color&quot; : {\n",
       "      &quot;field&quot; : &quot;AttendancePercentage&quot;,\n",
       "      &quot;type&quot; : &quot;quantitative&quot;\n",
       "    }\n",
       "  },\n",
       "  &quot;description&quot; : &quot;Engineers Attendance&quot;,\n",
       "  &quot;data&quot; : {\n",
       "    &quot;values&quot; : [\n",
       "      {\n",
       "        &quot;AttendancePercentage&quot; : 100,\n",
       "        &quot;UserName&quot; : &quot;salinabodale73@gmail.com&quot;\n",
       "      },\n",
       "      {\n",
       "        &quot;AttendancePercentage&quot; : 100,\n",
       "        &quot;UserName&quot; : &quot;sharlawar77@gmail.com&quot;\n",
       "      },\n",
       "      {\n",
       "        &quot;AttendancePercentage&quot; : 100,\n",
       "        &quot;UserName&quot; : &quot;rahilstar11@gmail.com&quot;\n",
       "      },\n",
       "      {\n",
       "        &quot;AttendancePercentage&quot; : 83,\n",
       "        &quot;UserName&quot; : &quot;deepshukla292@gmail.com&quot;\n",
       "      },\n",
       "      {\n",
       "        &quot;AttendancePercentage&quot; : 100,\n",
       "        &quot;UserName&quot; : &quot;iamnzm@outlook.com&quot;\n",
       "      },\n",
       "      {\n",
       "        &quot;AttendancePercentage&quot; : 83,\n",
       "        &quot;UserName&quot; : &quot;markfernandes66@gmail.com&quot;\n",
       "      },\n",
       "      {\n",
       "        &quot;AttendancePercentage&quot; : 50,\n",
       "        &quot;UserName&quot; : &quot;damodharn21@gmail.com&quot;\n",
       "      },\n",
       "      {\n",
       "        &quot;AttendancePercentage&quot; : 100,\n",
       "        &quot;UserName&quot; : &quot;bhagyashrichalke21@gmail.com&quot;\n",
       "      }\n",
       "    ]\n",
       "  },\n",
       "  &quot;config&quot; : {\n",
       "    &quot;mark&quot; : {\n",
       "      &quot;shape&quot; : &quot;M0,0.2L0.2351,0.3236 0.1902,0.0618 0.3804,-0.1236 0.1175,-0.1618 0,-0.4 -0.1175,-0.1618 -0.3804,-0.1236 -0.1902,0.0618 -0.2351,0.3236 0,0.2Z&quot;\n",
       "    }\n",
       "  }\n",
       "}\n",
       "   }\n",
       "   vg.embed(&quot;#vegas-37faf55c-af10-4c4f-9bbf-c488391c9405&quot;, embedSpec, function(error, result) {});\n",
       " &lt;/script&gt;\n",
       "\n",
       "    &lt;/body&gt;\n",
       "&lt;/html&gt;\"></iframe>\n",
       "  <script>\n",
       "    (function() {\n",
       "      function resizeIFrame(el, k) {\n",
       "        var height = el.contentWindow.document.body.scrollHeight || '400'; // Fallback in case of no scroll height\n",
       "        el.style.height = height + 'px';\n",
       "        if (k <= 10) { setTimeout(function() { resizeIFrame(el, k+1) }, 1000 + (k * 250)) };\n",
       "      }\n",
       "      resizeIFrame(document.querySelector('#frame-vegas-37faf55c-af10-4c4f-9bbf-c488391c9405'), 1);\n",
       "    })(); // IIFE\n",
       "  </script>\n",
       "    "
      ]
     },
     "metadata": {},
     "output_type": "display_data"
    }
   ],
   "source": [
    "Vegas(\"Engineers Attendance\").\n",
    "\n",
    "withDataFrame(attendanceDF).\n",
    "mark(Point).\n",
    "\n",
    "encodeX(\"UserName\", Nominal).\n",
    "\n",
    "encodeY(\"AttendancePercentage\", Quantitative, axis = Axis(title = \"Attendance in Percentage\"),hideAxis = true).\n",
    "\n",
    "encodeColor(\"AttendancePercentage\", Quantitative).\n",
    "\n",
    "configMark(customShape=\"M0,0.2L0.2351,0.3236 0.1902,0.0618 0.3804,-0.1236 0.1175,-0.1618 0,-0.4 -0.1175,-0.1618 -0.3804,-0.1236 -0.1902,0.0618 -0.2351,0.3236 0,0.2Z\").\n",
    "\n",
    "show"
   ]
  },
  {
   "cell_type": "markdown",
   "metadata": {},
   "source": [
    "### Bar Chart,  X axis is Username and Y axis is Attendance Percentage"
   ]
  },
  {
   "cell_type": "code",
   "execution_count": null,
   "metadata": {},
   "outputs": [],
   "source": [
    "Vegas(\"Engineers Attendance\").\n",
    "\n",
    "withDataFrame(attendanceDF).\n",
    "mark(Bar).\n",
    "\n",
    "encodeX(\"UserName\", Nominal).\n",
    "\n",
    "encodeY(\"AttendancePercentage\", Quantitative, axis = Axis(title = \"Attendance in Percentage\"),hideAxis = true).\n",
    "\n",
    "show"
   ]
  },
  {
   "cell_type": "markdown",
   "metadata": {},
   "source": [
    "### Line Chart, X axis is Username and Y axis is Attendance Percentage"
   ]
  },
  {
   "cell_type": "code",
   "execution_count": null,
   "metadata": {},
   "outputs": [],
   "source": [
    "Vegas(\"Engineers Attendance\").\n",
    "\n",
    "withDataFrame(attendanceDF).\n",
    "mark(Line).\n",
    "\n",
    "encodeX(\"UserName\", Nominal).\n",
    "\n",
    "encodeY(\"AttendancePercentage\", Quantitative, axis = Axis(title = \"Attendance in Percentage\"),hideAxis = true).\n",
    "\n",
    "\n",
    "show"
   ]
  },
  {
   "cell_type": "code",
   "execution_count": null,
   "metadata": {},
   "outputs": [],
   "source": []
  },
  {
   "cell_type": "code",
   "execution_count": null,
   "metadata": {},
   "outputs": [],
   "source": []
  },
  {
   "cell_type": "code",
   "execution_count": null,
   "metadata": {},
   "outputs": [],
   "source": []
  },
  {
   "cell_type": "code",
   "execution_count": null,
   "metadata": {},
   "outputs": [],
   "source": []
  },
  {
   "cell_type": "code",
   "execution_count": null,
   "metadata": {},
   "outputs": [],
   "source": []
  },
  {
   "cell_type": "code",
   "execution_count": null,
   "metadata": {},
   "outputs": [],
   "source": []
  },
  {
   "cell_type": "code",
   "execution_count": null,
   "metadata": {},
   "outputs": [],
   "source": []
  },
  {
   "cell_type": "code",
   "execution_count": null,
   "metadata": {},
   "outputs": [],
   "source": []
  },
  {
   "cell_type": "code",
   "execution_count": null,
   "metadata": {},
   "outputs": [],
   "source": []
  },
  {
   "cell_type": "code",
   "execution_count": null,
   "metadata": {},
   "outputs": [],
   "source": []
  },
  {
   "cell_type": "code",
   "execution_count": null,
   "metadata": {},
   "outputs": [],
   "source": []
  },
  {
   "cell_type": "code",
   "execution_count": null,
   "metadata": {},
   "outputs": [],
   "source": []
  },
  {
   "cell_type": "code",
   "execution_count": null,
   "metadata": {},
   "outputs": [],
   "source": []
  },
  {
   "cell_type": "code",
   "execution_count": null,
   "metadata": {},
   "outputs": [],
   "source": []
  },
  {
   "cell_type": "code",
   "execution_count": null,
   "metadata": {},
   "outputs": [],
   "source": []
  },
  {
   "cell_type": "code",
   "execution_count": null,
   "metadata": {},
   "outputs": [],
   "source": []
  },
  {
   "cell_type": "code",
   "execution_count": null,
   "metadata": {},
   "outputs": [],
   "source": []
  },
  {
   "cell_type": "code",
   "execution_count": null,
   "metadata": {},
   "outputs": [],
   "source": []
  },
  {
   "cell_type": "code",
   "execution_count": null,
   "metadata": {},
   "outputs": [],
   "source": []
  },
  {
   "cell_type": "code",
   "execution_count": null,
   "metadata": {},
   "outputs": [],
   "source": []
  },
  {
   "cell_type": "code",
   "execution_count": null,
   "metadata": {},
   "outputs": [],
   "source": []
  },
  {
   "cell_type": "code",
   "execution_count": null,
   "metadata": {},
   "outputs": [],
   "source": []
  },
  {
   "cell_type": "code",
   "execution_count": null,
   "metadata": {},
   "outputs": [],
   "source": []
  }
 ],
 "metadata": {
  "kernelspec": {
   "display_name": "Scala",
   "language": "scala",
   "name": "scala"
  },
  "language_info": {
   "codemirror_mode": "text/x-scala",
   "file_extension": ".scala",
   "mimetype": "text/x-scala",
   "name": "scala",
   "nbconvert_exporter": "script",
   "version": "2.11.12"
  }
 },
 "nbformat": 4,
 "nbformat_minor": 4
}
